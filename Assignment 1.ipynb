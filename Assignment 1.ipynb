{
 "cells": [
  {
   "cell_type": "code",
   "execution_count": 11,
   "metadata": {},
   "outputs": [
    {
     "name": "stdout",
     "output_type": "stream",
     "text": [
      "Answer 1:  [2, 6, 9, 9, 15, 19]\n"
     ]
    }
   ],
   "source": [
    "# Question 1\n",
    "# Write a program using the following list and sort it based on the sum of the values of the tuples of the list:\n",
    "\n",
    "list1 = [(1,5),(9,0),(12,3),(5,4),(13,6),(1,1)]\n",
    "list2 = [(x+y) for x,y in list1]\n",
    "list2.sort()\n",
    "print(\"Answer 1: \", list2)"
   ]
  },
  {
   "cell_type": "code",
   "execution_count": 12,
   "metadata": {},
   "outputs": [
    {
     "name": "stdout",
     "output_type": "stream",
     "text": [
      "Answer 2:  [(10, 400), (20, 300), (30, 200), (40, 100)]\n"
     ]
    }
   ],
   "source": [
    "# Question 2\n",
    "# Given a two Python list. Iterate both lists simultaneously such that list1 should display item in original order and list2 in reverse order:\n",
    "\n",
    "list1 = [10, 20, 30, 40]\n",
    "list2 = [100, 200, 300, 400]\n",
    "list3 = [(x,y) for x,y in zip(list1, list2[::-1])]\n",
    "\n",
    "print(\"Answer 2: \", list3)"
   ]
  },
  {
   "cell_type": "code",
   "execution_count": 13,
   "metadata": {},
   "outputs": [
    {
     "name": "stdout",
     "output_type": "stream",
     "text": [
      "Answer 3:  ['1 is odd', '2 is even', '3 is odd', '4 is even', '5 is odd', '6 is even', '7 is odd', '8 is even', '9 is odd', '10 is even']\n"
     ]
    }
   ],
   "source": [
    "# Question 3\n",
    "# Given number 1 through 10, write a program to display \"Even\" for even numbers and \"Odd\" for odd numbers.\n",
    "\n",
    "first = list(range(1, 11))\n",
    "second = [str(i) + \" is even\" if i%2==0 else str(i) + \" is odd\" for i in first]\n",
    "\n",
    "print(\"Answer 3: \", second)"
   ]
  },
  {
   "cell_type": "code",
   "execution_count": 14,
   "metadata": {},
   "outputs": [
    {
     "name": "stdout",
     "output_type": "stream",
     "text": [
      "Answer 4:  ['aba', '1221', 'bhgsskknb', 'aa']\n"
     ]
    }
   ],
   "source": [
    "# Question 4\n",
    "# Write a Python program to count the number of strings where the string length is 2 or more and the first and last character are same from a given list of strings:\n",
    "l1 = ['abc', 'xyz', 'aba', '1221', 'bhgsskknb', 'aa'] \n",
    "l2 = [i for i in l1 if len(i)>=2 and i[0] == i[len(i)-1]]\n",
    "\n",
    "print(\"Answer 4: \", l2)\n"
   ]
  },
  {
   "cell_type": "code",
   "execution_count": 15,
   "metadata": {},
   "outputs": [
    {
     "name": "stdout",
     "output_type": "stream",
     "text": [
      "Answer 5:  [1.4142135623730951, 2.0, 2.449489742783178, 2.8284271247461903, 3.1622776601683795]\n"
     ]
    }
   ],
   "source": [
    "# Question 5\n",
    "# Given a list of 1 through 10, write a program to display the square root of the even numbers\n",
    "\n",
    "lis = list(range(1, 11))\n",
    "lis1 = [i ** 0.5 for i in lis if i%2 == 0]\n",
    "\n",
    "print(\"Answer 5: \", lis1)"
   ]
  },
  {
   "cell_type": "code",
   "execution_count": 16,
   "metadata": {},
   "outputs": [
    {
     "name": "stdout",
     "output_type": "stream",
     "text": [
      "Answer 6:  {1: 'a', 2: 'b', 3: 'c', 4: 'd', 5: 'e'}\n"
     ]
    }
   ],
   "source": [
    "\n",
    "# Question 6\n",
    "# write a program such that 𝑙𝑖𝑠𝑡1 will act as keys while 𝑙𝑖𝑠𝑡2 will act as the values of the dictionary:\n",
    "list1 = [1, 2, 3, 4, 5]\n",
    "list2 = [\"a\", \"b\", \"c\",\"d\", \"e\"]\n",
    "\n",
    "# Using dictionary comprehension\n",
    "list3 = {x : y for (x,y) in zip(list1, list2)}\n",
    "\n",
    "print(\"Answer 6: \", list3)"
   ]
  },
  {
   "cell_type": "code",
   "execution_count": null,
   "metadata": {},
   "outputs": [],
   "source": []
  }
 ],
 "metadata": {
  "kernelspec": {
   "display_name": "Python 3",
   "language": "python",
   "name": "python3"
  },
  "language_info": {
   "codemirror_mode": {
    "name": "ipython",
    "version": 3
   },
   "file_extension": ".py",
   "mimetype": "text/x-python",
   "name": "python",
   "nbconvert_exporter": "python",
   "pygments_lexer": "ipython3",
   "version": "3.7.4"
  }
 },
 "nbformat": 4,
 "nbformat_minor": 2
}
